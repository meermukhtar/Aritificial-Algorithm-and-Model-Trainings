{
 "cells": [
  {
   "cell_type": "code",
   "execution_count": 1,
   "id": "98f31b95",
   "metadata": {},
   "outputs": [],
   "source": [
    "    from ultralytics import YOLO\n",
    "    from PIL import Image"
   ]
  },
  {
   "cell_type": "code",
   "execution_count": 2,
   "id": "7660606e",
   "metadata": {},
   "outputs": [],
   "source": [
    "model=YOLO(r\"C:\\Users\\xaadk\\Downloads\\best.pt\")"
   ]
  },
  {
   "cell_type": "code",
   "execution_count": 12,
   "id": "31fa51cc",
   "metadata": {},
   "outputs": [
    {
     "name": "stdout",
     "output_type": "stream",
     "text": [
      "\n",
      "0: 512x640 1 Medicine, 290.6ms\n",
      "Speed: 4.3ms preprocess, 290.6ms inference, 1.0ms postprocess per image at shape (1, 3, 512, 640)\n",
      "[ultralytics.engine.results.Results object with attributes:\n",
      "\n",
      "boxes: ultralytics.engine.results.Boxes object\n",
      "keypoints: None\n",
      "masks: None\n",
      "names: {0: 'Medicine'}\n",
      "obb: None\n",
      "orig_img: array([[[255, 232, 255],\n",
      "        [255, 242, 255],\n",
      "        [255, 233, 255],\n",
      "        ...,\n",
      "        [253, 253, 253],\n",
      "        [253, 253, 253],\n",
      "        [253, 253, 253]],\n",
      "\n",
      "       [[255, 255, 240],\n",
      "        [255, 255, 237],\n",
      "        [247, 247, 231],\n",
      "        ...,\n",
      "        [253, 253, 253],\n",
      "        [253, 253, 253],\n",
      "        [253, 253, 253]],\n",
      "\n",
      "       [[255, 255, 219],\n",
      "        [255, 255, 220],\n",
      "        [244, 255, 213],\n",
      "        ...,\n",
      "        [253, 253, 253],\n",
      "        [253, 253, 253],\n",
      "        [253, 253, 253]],\n",
      "\n",
      "       ...,\n",
      "\n",
      "       [[  2,   2,   2],\n",
      "        [  1,   1,   1],\n",
      "        [  0,   0,   0],\n",
      "        ...,\n",
      "        [  2,   2,   2],\n",
      "        [  0,   0,   0],\n",
      "        [  0,   0,   0]],\n",
      "\n",
      "       [[  8,   8,   8],\n",
      "        [  4,   4,   4],\n",
      "        [  0,   0,   0],\n",
      "        ...,\n",
      "        [  0,   0,   0],\n",
      "        [  2,   2,   2],\n",
      "        [  7,   7,   7]],\n",
      "\n",
      "       [[ 15,  15,  15],\n",
      "        [  6,   6,   6],\n",
      "        [  0,   0,   0],\n",
      "        ...,\n",
      "        [  0,   0,   0],\n",
      "        [  4,   4,   4],\n",
      "        [ 16,  16,  16]]], dtype=uint8)\n",
      "orig_shape: (180, 228)\n",
      "path: 'C:\\\\Users\\\\xaadk\\\\Downloads\\\\medicine-image4.jpg'\n",
      "probs: None\n",
      "save_dir: 'runs\\\\detect\\\\predict8'\n",
      "speed: {'preprocess': 4.262447357177734, 'inference': 290.5998229980469, 'postprocess': 1.0352134704589844}]\n"
     ]
    }
   ],
   "source": [
    "#result=model(source=0,show=True,confg=0.3,save=True)\n",
    "image_path = r\"C:\\Users\\xaadk\\Downloads\\medicine-image4.jpg\"\n",
    "image = Image.open(image_path)\n",
    "results = model.predict(source=image, show=False, save=False, save_txt=False, save_conf=False)\n",
    "print(results)\n",
    "#result=model(source=image,show=False,save=True,conf=0.4)"
   ]
  },
  {
   "cell_type": "code",
   "execution_count": 21,
   "id": "c9b9334e",
   "metadata": {},
   "outputs": [
    {
     "name": "stdout",
     "output_type": "stream",
     "text": [
      "\n",
      "0: 640x640 1 Medicine, 677.2ms\n",
      "Speed: 8.1ms preprocess, 677.2ms inference, 0.0ms postprocess per image at shape (1, 3, 640, 640)\n"
     ]
    }
   ],
   "source": [
    "from ultralytics import YOLO\n",
    "\n",
    "# Load a model\n",
    "model = YOLO(r\"C:\\Users\\xaadk\\Downloads\\best.pt\")  # pretrained YOLOv8n model\n",
    "\n",
    "# Run batched inference on a list of images\n",
    "image_path = r\"C:\\Users\\xaadk\\Downloads\\medicine-image.jpg\"\n",
    "image = Image.open(image_path)\n",
    "results = model(image)  # return a list of Results objects\n",
    "\n",
    "# Process results list\n",
    "for result in results:\n",
    "    boxes = result.boxes  # Boxes object for bounding box outputs\n",
    "    masks = result.masks  # Masks object for segmentation masks outputs\n",
    "    keypoints = result.keypoints  # Keypoints object for pose outputs\n",
    "    probs = result.probs  # Probs object for classification outputs\n",
    "    result.show()  # display to screen\n",
    "    result.save(filename='result.jpg')  # save to disk"
   ]
  },
  {
   "cell_type": "code",
   "execution_count": null,
   "id": "1768fe62",
   "metadata": {},
   "outputs": [],
   "source": []
  }
 ],
 "metadata": {
  "kernelspec": {
   "display_name": "Python 3 (ipykernel)",
   "language": "python",
   "name": "python3"
  },
  "language_info": {
   "codemirror_mode": {
    "name": "ipython",
    "version": 3
   },
   "file_extension": ".py",
   "mimetype": "text/x-python",
   "name": "python",
   "nbconvert_exporter": "python",
   "pygments_lexer": "ipython3",
   "version": "3.11.4"
  }
 },
 "nbformat": 4,
 "nbformat_minor": 5
}
