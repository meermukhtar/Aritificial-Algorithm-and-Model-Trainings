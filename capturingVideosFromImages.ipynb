{
 "cells": [
  {
   "cell_type": "code",
   "execution_count": 1,
   "id": "572528d4",
   "metadata": {},
   "outputs": [],
   "source": [
    "import cv2"
   ]
  },
  {
   "cell_type": "code",
   "execution_count": 2,
   "id": "f875ccfb",
   "metadata": {},
   "outputs": [],
   "source": [
    "cam = cv2.VideoCapture(\"H:/fyp/New folder/video dataset/datasetViedo.mov\")\n",
    "currentframe = 0"
   ]
  },
  {
   "cell_type": "code",
   "execution_count": 3,
   "id": "22b26184",
   "metadata": {},
   "outputs": [],
   "source": [
    "while cam.isOpened():\n",
    "    success, image = cam.read()\n",
    "    if not success:\n",
    "        break  # Break if no more frames are available\n",
    "    \n",
    "    # Write the current frame to an image file\n",
    "    cv2.imwrite(f\"H:/fyp/New folder/video dataset/{currentframe}.png\", image)\n",
    "    \n",
    "    # Increment frame counter\n",
    "    currentframe += 1"
   ]
  },
  {
   "cell_type": "code",
   "execution_count": 4,
   "id": "720ea00f",
   "metadata": {},
   "outputs": [],
   "source": [
    "cam.release()\n",
    "cv2.destroyAllWindows()"
   ]
  },
  {
   "cell_type": "code",
   "execution_count": null,
   "id": "39abef1a",
   "metadata": {},
   "outputs": [],
   "source": []
  }
 ],
 "metadata": {
  "kernelspec": {
   "display_name": "Python 3 (ipykernel)",
   "language": "python",
   "name": "python3"
  },
  "language_info": {
   "codemirror_mode": {
    "name": "ipython",
    "version": 3
   },
   "file_extension": ".py",
   "mimetype": "text/x-python",
   "name": "python",
   "nbconvert_exporter": "python",
   "pygments_lexer": "ipython3",
   "version": "3.11.4"
  }
 },
 "nbformat": 4,
 "nbformat_minor": 5
}
